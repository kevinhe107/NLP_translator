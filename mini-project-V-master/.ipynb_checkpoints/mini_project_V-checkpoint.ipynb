{
 "cells": [
  {
   "cell_type": "markdown",
   "metadata": {},
   "source": [
    "## Language Translator"
   ]
  },
  {
   "cell_type": "code",
   "execution_count": 8,
   "metadata": {},
   "outputs": [],
   "source": [
    "import nltk\n",
    "import pandas as pd\n",
    "import numpy as np\n",
    "import collections\n",
    "\n",
    "\n",
    "from keras.preprocessing.text import Tokenizer\n",
    "from keras.preprocessing.sequence import pad_sequences\n",
    "from keras.models import Model, Sequential\n",
    "from keras.layers import GRU, Input, Dense, TimeDistributed, Activation, RepeatVector, Bidirectional, Dropout, LSTM\n",
    "from keras.layers.embeddings import Embedding\n",
    "from keras.optimizers import Adam\n",
    "from sklearn.model_selection import train_test_split\n",
    "from keras.losses import sparse_categorical_crossentropy\n",
    "\n",
    "from keras.layers import LSTM\n",
    "from keras.layers import Dense\n",
    "from keras.layers import Embedding\n",
    "from keras.layers import RepeatVector\n",
    "from keras.layers import TimeDistributed\n",
    "from keras.callbacks import ModelCheckpoint\n",
    "from keras.utils import to_categorical\n",
    "\n",
    "from keras.utils.vis_utils import plot_model\n",
    "from numpy.random import rand\n",
    "from numpy.random import shuffle\n",
    "\n",
    "from keras.models import load_model\n",
    "\n",
    "from nltk.translate.bleu_score import corpus_bleu"
   ]
  },
  {
   "cell_type": "markdown",
   "metadata": {},
   "source": [
    "From `nltk` we can download translated sentences between different languages. You can see the example between **English and French** below but feel free to try different combination as well."
   ]
  },
  {
   "cell_type": "code",
   "execution_count": 2,
   "metadata": {},
   "outputs": [
    {
     "name": "stderr",
     "output_type": "stream",
     "text": [
      "[nltk_data] Downloading package comtrans to\n",
      "[nltk_data]     C:\\Users\\kevin\\AppData\\Roaming\\nltk_data...\n",
      "[nltk_data]   Package comtrans is already up-to-date!\n"
     ]
    },
    {
     "data": {
      "text/plain": [
       "True"
      ]
     },
     "execution_count": 2,
     "metadata": {},
     "output_type": "execute_result"
    }
   ],
   "source": [
    "nltk.download('comtrans')"
   ]
  },
  {
   "cell_type": "code",
   "execution_count": 3,
   "metadata": {},
   "outputs": [
    {
     "name": "stdout",
     "output_type": "stream",
     "text": [
      "<AlignedSent: 'Resumption of the se...' -> 'Reprise de la sessio...'>\n"
     ]
    }
   ],
   "source": [
    "from nltk.corpus import comtrans\n",
    "print(comtrans.aligned_sents('alignment-en-fr.txt')[0])"
   ]
  },
  {
   "cell_type": "code",
   "execution_count": 4,
   "metadata": {},
   "outputs": [
    {
     "data": {
      "text/plain": [
       "<AlignedCorpusReader in 'C:\\\\Users\\\\kevin\\\\AppData\\\\Roaming\\\\nltk_data\\\\corpora\\\\comtrans.zip/comtrans/'>"
      ]
     },
     "execution_count": 4,
     "metadata": {},
     "output_type": "execute_result"
    }
   ],
   "source": [
    "comtrans"
   ]
  },
  {
   "cell_type": "code",
   "execution_count": 5,
   "metadata": {},
   "outputs": [
    {
     "data": {
      "text/plain": [
       "33334"
      ]
     },
     "execution_count": 5,
     "metadata": {},
     "output_type": "execute_result"
    }
   ],
   "source": [
    "len(comtrans.aligned_sents('alignment-en-fr.txt'))"
   ]
  },
  {
   "cell_type": "markdown",
   "metadata": {},
   "source": [
    "### Data exploration and retrival"
   ]
  },
  {
   "cell_type": "code",
   "execution_count": 6,
   "metadata": {},
   "outputs": [
    {
     "name": "stdout",
     "output_type": "stream",
     "text": [
      "['Resumption', 'of', 'the', 'session']\n",
      "['Reprise', 'de', 'la', 'session']\n",
      "0-0 1-1 2-2 3-3\n"
     ]
    }
   ],
   "source": [
    "print(comtrans.aligned_sents('alignment-en-fr.txt')[0].words)\n",
    "print(comtrans.aligned_sents('alignment-en-fr.txt')[0].mots)\n",
    "print(comtrans.aligned_sents('alignment-en-fr.txt')[0].alignment)"
   ]
  },
  {
   "cell_type": "markdown",
   "metadata": {},
   "source": [
    "* data retrival function"
   ]
  },
  {
   "cell_type": "code",
   "execution_count": 7,
   "metadata": {},
   "outputs": [],
   "source": [
    "def get_words(corpus_text):\n",
    "    corpus = comtrans.aligned_sents(corpus_text)\n",
    "    language_1 = [i.words for i in corpus]\n",
    "    language_2 = [i.mots for i in corpus]\n",
    "    \n",
    "    return language_1, language_2"
   ]
  },
  {
   "cell_type": "code",
   "execution_count": 8,
   "metadata": {},
   "outputs": [],
   "source": [
    "language_1 = get_words('alignment-en-fr.txt')[0]\n",
    "language_2 = get_words('alignment-en-fr.txt')[1]\n",
    "    \n",
    "df_lang_1 = pd.DataFrame({'sentence':language_1})\n",
    "df_lang_2 = pd.DataFrame({'sentence':language_2})"
   ]
  },
  {
   "cell_type": "code",
   "execution_count": 9,
   "metadata": {},
   "outputs": [],
   "source": [
    "df_lang_all = pd.concat([df_lang_1, df_lang_2], ignore_index=True)"
   ]
  },
  {
   "cell_type": "markdown",
   "metadata": {},
   "source": [
    "* data cleaning function for dataframes"
   ]
  },
  {
   "cell_type": "code",
   "execution_count": 10,
   "metadata": {},
   "outputs": [],
   "source": [
    "def preprocess(df):\n",
    "    \n",
    "    #remove all tokens that are not alphanumeric\n",
    "    words = df['sentence'].apply(lambda x: [i for i in x if i.isalnum()])\n",
    "    \n",
    "    # STEP 3: convert text to lowercase\n",
    "    words = words.apply(lambda x: [i.lower() for i in x])\n",
    "    \n",
    "    return words\n",
    "clean_l1 = preprocess(df_lang_1).tolist()\n",
    "clean_l2 = preprocess(df_lang_2).tolist()\n",
    "clean_all = preprocess(df_lang_all).tolist()"
   ]
  },
  {
   "cell_type": "code",
   "execution_count": 11,
   "metadata": {},
   "outputs": [],
   "source": [
    "def listToString(s): \n",
    "    \n",
    "    # initialize an empty string\n",
    "    str1 = \" \" \n",
    "    \n",
    "    # return string  \n",
    "    return (str1.join(s))"
   ]
  },
  {
   "cell_type": "code",
   "execution_count": 12,
   "metadata": {},
   "outputs": [],
   "source": [
    "l1 = list(map(listToString, clean_l1))\n",
    "l2 = list(map(listToString, clean_l2))\n",
    "lang_all = list(map(listToString, clean_all))"
   ]
  },
  {
   "cell_type": "code",
   "execution_count": 13,
   "metadata": {},
   "outputs": [],
   "source": [
    "dataset = np.array(list(zip(l1, l2)))"
   ]
  },
  {
   "cell_type": "code",
   "execution_count": 14,
   "metadata": {},
   "outputs": [
    {
     "data": {
      "text/plain": [
       "array(['resumption of the session', 'reprise de la session'],\n",
       "      dtype='<U270')"
      ]
     },
     "execution_count": 14,
     "metadata": {},
     "output_type": "execute_result"
    }
   ],
   "source": [
    "dataset[0, :]"
   ]
  },
  {
   "cell_type": "code",
   "execution_count": 15,
   "metadata": {},
   "outputs": [
    {
     "data": {
      "text/plain": [
       "(33334, 2)"
      ]
     },
     "execution_count": 15,
     "metadata": {},
     "output_type": "execute_result"
    }
   ],
   "source": [
    "dataset.shape"
   ]
  },
  {
   "cell_type": "markdown",
   "metadata": {},
   "source": [
    "* reduce size of dataset + train/test split"
   ]
  },
  {
   "cell_type": "code",
   "execution_count": 29,
   "metadata": {},
   "outputs": [],
   "source": [
    "# reduce dataset size\n",
    "n_sentences = 5000\n",
    "data_lang = dataset[:5000, :]\n",
    "# random shuffle\n",
    "shuffle(data_lang)\n",
    "# split into train/test\n",
    "train, test = data_lang[:4500], data_lang[4500:]"
   ]
  },
  {
   "cell_type": "markdown",
   "metadata": {},
   "source": [
    "* word vectorization and padding"
   ]
  },
  {
   "cell_type": "code",
   "execution_count": 30,
   "metadata": {},
   "outputs": [],
   "source": [
    "def tokenize(x):\n",
    "    tokenizer = Tokenizer()\n",
    "    tokenizer.fit_on_texts(x)\n",
    "    return tokenizer"
   ]
  },
  {
   "cell_type": "code",
   "execution_count": 31,
   "metadata": {},
   "outputs": [],
   "source": [
    "# max sentence length\n",
    "def max_length(lines):\n",
    "\treturn max(len(line.split()) for line in lines)"
   ]
  },
  {
   "cell_type": "code",
   "execution_count": 32,
   "metadata": {},
   "outputs": [
    {
     "name": "stdout",
     "output_type": "stream",
     "text": [
      "English Vocabulary Size: 6623\n",
      "English Max Length: 39\n",
      "French Vocabulary Size: 8498\n",
      "French Max Length: 38\n"
     ]
    }
   ],
   "source": [
    "#l1 tokenizer\n",
    "l1_tokenizer = tokenize(data_lang[:, 0])\n",
    "l1_vocab_size = len(l1_tokenizer.word_index) + 1\n",
    "l1_length = max_length(data_lang[:, 0])\n",
    "print('English Vocabulary Size: %d' % l1_vocab_size)\n",
    "print('English Max Length: %d' % (l1_length))\n",
    "\n",
    "# l2 tokenizer\n",
    "l2_tokenizer = tokenize(data_lang[:, 1])\n",
    "l2_vocab_size = len(l2_tokenizer.word_index) + 1\n",
    "l2_length = max_length(data_lang[:, 1])\n",
    "print('French Vocabulary Size: %d' % l2_vocab_size)\n",
    "print('French Max Length: %d' % (l2_length))"
   ]
  },
  {
   "cell_type": "code",
   "execution_count": 33,
   "metadata": {},
   "outputs": [],
   "source": [
    "# encode and pad sequences\n",
    "def encode_sequences(tokenizer, length, lines):\n",
    "\t# integer encode sequences\n",
    "\tX = tokenizer.texts_to_sequences(lines)\n",
    "\t# pad sequences with 0 values\n",
    "\tX = pad_sequences(X, maxlen=length, padding='post')\n",
    "\treturn X"
   ]
  },
  {
   "cell_type": "code",
   "execution_count": 34,
   "metadata": {},
   "outputs": [],
   "source": [
    "def encode_output(sequences, vocab_size):\n",
    "\tylist = []\n",
    "\tfor sequence in sequences:\n",
    "\t\tencoded = to_categorical(sequence, num_classes=vocab_size)\n",
    "\t\tylist.append(encoded)\n",
    "\ty = np.array(ylist)\n",
    "\ty = y.reshape(sequences.shape[0], sequences.shape[1], vocab_size)\n",
    "\treturn y"
   ]
  },
  {
   "cell_type": "markdown",
   "metadata": {},
   "source": [
    "* populate training and splitting"
   ]
  },
  {
   "cell_type": "code",
   "execution_count": 35,
   "metadata": {},
   "outputs": [],
   "source": [
    "# prepare training data\n",
    "trainX = encode_sequences(l1_tokenizer, l1_length, train[:, 0])\n",
    "trainY = encode_sequences(l2_tokenizer, l2_length, train[:, 1])\n",
    "trainY = encode_output(trainY, l2_vocab_size)\n",
    "# prepare validation data\n",
    "testX = encode_sequences(l1_tokenizer, l1_length, test[:, 0])\n",
    "testY = encode_sequences(l2_tokenizer, l2_length, test[:, 1])\n",
    "testY = encode_output(testY, l2_vocab_size)"
   ]
  },
  {
   "cell_type": "markdown",
   "metadata": {},
   "source": [
    "* modeling "
   ]
  },
  {
   "cell_type": "code",
   "execution_count": 36,
   "metadata": {},
   "outputs": [],
   "source": [
    "def define_model(src_vocab, tar_vocab, src_timesteps, tar_timesteps, n_units):\n",
    "\tmodel = Sequential()\n",
    "\tmodel.add(Embedding(src_vocab, n_units, input_length=src_timesteps, mask_zero=True))\n",
    "\tmodel.add(LSTM(n_units))\n",
    "\tmodel.add(RepeatVector(tar_timesteps))\n",
    "\tmodel.add(LSTM(n_units, return_sequences=True))\n",
    "\tmodel.add(TimeDistributed(Dense(tar_vocab, activation='softmax')))\n",
    "\treturn model"
   ]
  },
  {
   "cell_type": "code",
   "execution_count": 10,
   "metadata": {},
   "outputs": [
    {
     "ename": "NameError",
     "evalue": "name 'define_model' is not defined",
     "output_type": "error",
     "traceback": [
      "\u001b[1;31m---------------------------------------------------------------------------\u001b[0m",
      "\u001b[1;31mNameError\u001b[0m                                 Traceback (most recent call last)",
      "\u001b[1;32m<ipython-input-10-13b9e42ad93e>\u001b[0m in \u001b[0;36m<module>\u001b[1;34m\u001b[0m\n\u001b[0;32m      1\u001b[0m \u001b[1;31m# define model\u001b[0m\u001b[1;33m\u001b[0m\u001b[1;33m\u001b[0m\u001b[1;33m\u001b[0m\u001b[0m\n\u001b[1;32m----> 2\u001b[1;33m \u001b[0mmodel\u001b[0m \u001b[1;33m=\u001b[0m \u001b[0mdefine_model\u001b[0m\u001b[1;33m(\u001b[0m\u001b[0ml1_vocab_size\u001b[0m\u001b[1;33m,\u001b[0m \u001b[0ml2_vocab_size\u001b[0m\u001b[1;33m,\u001b[0m \u001b[0ml1_length\u001b[0m\u001b[1;33m,\u001b[0m \u001b[0ml2_length\u001b[0m\u001b[1;33m,\u001b[0m \u001b[1;36m256\u001b[0m\u001b[1;33m)\u001b[0m\u001b[1;33m\u001b[0m\u001b[1;33m\u001b[0m\u001b[0m\n\u001b[0m\u001b[0;32m      3\u001b[0m \u001b[1;33m\u001b[0m\u001b[0m\n\u001b[0;32m      4\u001b[0m \u001b[0mmodel\u001b[0m\u001b[1;33m.\u001b[0m\u001b[0mcompile\u001b[0m\u001b[1;33m(\u001b[0m\u001b[0moptimizer\u001b[0m\u001b[1;33m=\u001b[0m\u001b[1;34m'adam'\u001b[0m\u001b[1;33m,\u001b[0m \u001b[0mloss\u001b[0m\u001b[1;33m=\u001b[0m\u001b[1;34m'categorical_crossentropy'\u001b[0m\u001b[1;33m,\u001b[0m  \u001b[0mmetrics\u001b[0m\u001b[1;33m=\u001b[0m\u001b[1;33m[\u001b[0m\u001b[1;34m'accuracy'\u001b[0m\u001b[1;33m]\u001b[0m\u001b[1;33m)\u001b[0m\u001b[1;33m\u001b[0m\u001b[1;33m\u001b[0m\u001b[0m\n\u001b[0;32m      5\u001b[0m \u001b[1;31m# summarize defined model\u001b[0m\u001b[1;33m\u001b[0m\u001b[1;33m\u001b[0m\u001b[1;33m\u001b[0m\u001b[0m\n",
      "\u001b[1;31mNameError\u001b[0m: name 'define_model' is not defined"
     ]
    }
   ],
   "source": [
    "# define model\n",
    "model = define_model(l1_vocab_size, l2_vocab_size, l1_length, l2_length, 256)\n",
    "\n",
    "model.compile(optimizer='adam', loss='categorical_crossentropy',  metrics=['accuracy'])\n",
    "# summarize defined model\n",
    "print(model.summary())"
   ]
  },
  {
   "cell_type": "code",
   "execution_count": 39,
   "metadata": {},
   "outputs": [
    {
     "name": "stdout",
     "output_type": "stream",
     "text": [
      "Epoch 1/17\n",
      "71/71 - 76s - loss: 3.3942 - val_loss: 3.5311\n",
      "\n",
      "Epoch 00001: val_loss improved from inf to 3.53113, saving model to model.h5\n",
      "Epoch 2/17\n",
      "71/71 - 76s - loss: 3.3736 - val_loss: 3.5434\n",
      "\n",
      "Epoch 00002: val_loss did not improve from 3.53113\n",
      "Epoch 3/17\n",
      "71/71 - 76s - loss: 3.3460 - val_loss: 3.5117\n",
      "\n",
      "Epoch 00003: val_loss improved from 3.53113 to 3.51166, saving model to model.h5\n",
      "Epoch 4/17\n",
      "71/71 - 76s - loss: 3.3206 - val_loss: 3.4947\n",
      "\n",
      "Epoch 00004: val_loss improved from 3.51166 to 3.49472, saving model to model.h5\n",
      "Epoch 5/17\n",
      "71/71 - 77s - loss: 3.3038 - val_loss: 3.5063\n",
      "\n",
      "Epoch 00005: val_loss did not improve from 3.49472\n",
      "Epoch 6/17\n",
      "71/71 - 75s - loss: 3.2959 - val_loss: 3.5047\n",
      "\n",
      "Epoch 00006: val_loss did not improve from 3.49472\n",
      "Epoch 7/17\n",
      "71/71 - 77s - loss: 3.2899 - val_loss: 3.4991\n",
      "\n",
      "Epoch 00007: val_loss did not improve from 3.49472\n",
      "Epoch 8/17\n",
      "71/71 - 75s - loss: 3.2795 - val_loss: 3.4999\n",
      "\n",
      "Epoch 00008: val_loss did not improve from 3.49472\n",
      "Epoch 9/17\n",
      "71/71 - 76s - loss: 3.2643 - val_loss: 3.5056\n",
      "\n",
      "Epoch 00009: val_loss did not improve from 3.49472\n",
      "Epoch 10/17\n",
      "71/71 - 76s - loss: 3.2533 - val_loss: 3.5090\n",
      "\n",
      "Epoch 00010: val_loss did not improve from 3.49472\n",
      "Epoch 11/17\n",
      "71/71 - 76s - loss: 3.2513 - val_loss: 3.5252\n",
      "\n",
      "Epoch 00011: val_loss did not improve from 3.49472\n",
      "Epoch 12/17\n",
      "71/71 - 82s - loss: 3.2503 - val_loss: 3.5570\n",
      "\n",
      "Epoch 00012: val_loss did not improve from 3.49472\n",
      "Epoch 13/17\n",
      "71/71 - 81s - loss: 3.2457 - val_loss: 3.5236\n",
      "\n",
      "Epoch 00013: val_loss did not improve from 3.49472\n",
      "Epoch 14/17\n",
      "71/71 - 82s - loss: 3.2408 - val_loss: 3.5269\n",
      "\n",
      "Epoch 00014: val_loss did not improve from 3.49472\n",
      "Epoch 15/17\n",
      "71/71 - 87s - loss: 3.2335 - val_loss: 3.5270\n",
      "\n",
      "Epoch 00015: val_loss did not improve from 3.49472\n",
      "Epoch 16/17\n",
      "71/71 - 88s - loss: 3.2308 - val_loss: 3.5434\n",
      "\n",
      "Epoch 00016: val_loss did not improve from 3.49472\n",
      "Epoch 17/17\n",
      "71/71 - 87s - loss: 3.2280 - val_loss: 3.5364\n",
      "\n",
      "Epoch 00017: val_loss did not improve from 3.49472\n"
     ]
    },
    {
     "data": {
      "text/plain": [
       "<tensorflow.python.keras.callbacks.History at 0x21283b43670>"
      ]
     },
     "execution_count": 39,
     "metadata": {},
     "output_type": "execute_result"
    }
   ],
   "source": [
    "# fit model\n",
    "filename = 'model.h5'\n",
    "checkpoint = ModelCheckpoint(filename, monitor='val_loss', verbose=1, save_best_only=True, mode='min')\n",
    "model.fit(trainX, trainY, epochs=17, batch_size=64, validation_data=(testX, testY), callbacks=[checkpoint], verbose=2)"
   ]
  },
  {
   "cell_type": "markdown",
   "metadata": {},
   "source": [
    "* Model evaluation"
   ]
  },
  {
   "cell_type": "code",
   "execution_count": 7,
   "metadata": {},
   "outputs": [],
   "source": [
    "source ='the quick brown fox jumps over the lazy dog'"
   ]
  },
  {
   "cell_type": "code",
   "execution_count": 3,
   "metadata": {},
   "outputs": [],
   "source": [
    "# load model\n",
    "model = load_model('model.h5')"
   ]
  },
  {
   "cell_type": "code",
   "execution_count": 4,
   "metadata": {},
   "outputs": [],
   "source": [
    "# map an integer to a word\n",
    "def word_for_id(integer, tokenizer):\n",
    "\tfor word, index in tokenizer.word_index.items():\n",
    "\t\tif index == integer:\n",
    "\t\t\treturn word\n",
    "\treturn None"
   ]
  },
  {
   "cell_type": "code",
   "execution_count": 5,
   "metadata": {},
   "outputs": [],
   "source": [
    "# generate target given source sequence\n",
    "def predict_sequence(model, tokenizer, source):\n",
    "\tprediction = model.predict(source, verbose=0)[0]\n",
    "\tintegers = [argmax(vector) for vector in prediction]\n",
    "\ttarget = list()\n",
    "\tfor i in integers:\n",
    "\t\tword = word_for_id(i, tokenizer)\n",
    "\t\tif word is None:\n",
    "\t\t\tbreak\n",
    "\t\ttarget.append(word)\n",
    "\treturn ' '.join(target)"
   ]
  },
  {
   "cell_type": "code",
   "execution_count": 9,
   "metadata": {},
   "outputs": [],
   "source": [
    "# evaluate the skill of the model\n",
    "def evaluate_model(model, tokenizer, sources, raw_dataset):\n",
    "\tactual, predicted = list(), list()\n",
    "\tfor i, source in enumerate(sources):\n",
    "\t\t# translate encoded source text\n",
    "\t\tsource = source.reshape((1, source.shape[0]))\n",
    "\t\ttranslation = predict_sequence(model, eng_tokenizer, source)\n",
    "\t\traw_target, raw_src = raw_dataset[i]\n",
    "\t\tif i < 10:\n",
    "\t\t\tprint('src=[%s], target=[%s], predicted=[%s]' % (raw_src, raw_target, translation))\n",
    "\t\tactual.append([raw_target.split()])\n",
    "\t\tpredicted.append(translation.split())\n",
    "\t# calculate BLEU score\n",
    "\tprint('BLEU-1: %f' % corpus_bleu(actual, predicted, weights=(1.0, 0, 0, 0)))\n",
    "\tprint('BLEU-2: %f' % corpus_bleu(actual, predicted, weights=(0.5, 0.5, 0, 0)))\n",
    "\tprint('BLEU-3: %f' % corpus_bleu(actual, predicted, weights=(0.3, 0.3, 0.3, 0)))\n",
    "\tprint('BLEU-4: %f' % corpus_bleu(actual, predicted, weights=(0.25, 0.25, 0.25, 0.25)))"
   ]
  }
 ],
 "metadata": {
  "kernelspec": {
   "display_name": "Python 3",
   "language": "python",
   "name": "python3"
  },
  "language_info": {
   "codemirror_mode": {
    "name": "ipython",
    "version": 3
   },
   "file_extension": ".py",
   "mimetype": "text/x-python",
   "name": "python",
   "nbconvert_exporter": "python",
   "pygments_lexer": "ipython3",
   "version": "3.8.5"
  }
 },
 "nbformat": 4,
 "nbformat_minor": 4
}
