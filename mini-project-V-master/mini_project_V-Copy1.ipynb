{
 "cells": [
  {
   "cell_type": "markdown",
   "metadata": {},
   "source": [
    "## Language Translator"
   ]
  },
  {
   "cell_type": "code",
   "execution_count": 5,
   "metadata": {},
   "outputs": [],
   "source": [
    "import nltk\n",
    "import pandas as pd\n",
    "import numpy as np\n",
    "import collections\n",
    "\n",
    "\n",
    "from keras.preprocessing.text import Tokenizer\n",
    "from keras.preprocessing.sequence import pad_sequences\n",
    "from keras.models import Model, Sequential\n",
    "from keras.layers import GRU, Input, Dense, TimeDistributed, Activation, RepeatVector, Bidirectional, Dropout, LSTM\n",
    "from keras.layers.embeddings import Embedding\n",
    "from keras.optimizers import Adam\n",
    "from sklearn.model_selection import train_test_split\n",
    "from keras.losses import sparse_categorical_crossentropy\n",
    "\n",
    "from keras.layers import LSTM\n",
    "from keras.layers import Dense\n",
    "from keras.layers import Embedding\n",
    "from keras.layers import RepeatVector\n",
    "from keras.layers import TimeDistributed\n",
    "from keras.callbacks import ModelCheckpoint\n",
    "from keras.utils import to_categorical\n",
    "\n",
    "from keras.utils.vis_utils import plot_model\n",
    "from numpy.random import rand\n",
    "from numpy.random import shuffle\n",
    "\n",
    "from keras.models import load_model\n",
    "\n",
    "from nltk.translate.bleu_score import corpus_bleu\n",
    "\n",
    "from numpy import argmax\n",
    "\n",
    "import re"
   ]
  },
  {
   "cell_type": "markdown",
   "metadata": {},
   "source": [
    "From `nltk` we can download translated sentences between different languages. You can see the example between **English and French** below but feel free to try different combination as well."
   ]
  },
  {
   "cell_type": "code",
   "execution_count": 6,
   "metadata": {},
   "outputs": [
    {
     "name": "stdout",
     "output_type": "stream",
     "text": [
      "<AlignedSent: 'Resumption of the se...' -> 'Reprise de la sessio...'>\n"
     ]
    }
   ],
   "source": [
    "from nltk.corpus import comtrans\n",
    "print(comtrans.aligned_sents('alignment-en-fr.txt')[0])"
   ]
  },
  {
   "cell_type": "markdown",
   "metadata": {},
   "source": [
    "### Data exploration and retrival"
   ]
  },
  {
   "cell_type": "code",
   "execution_count": 7,
   "metadata": {},
   "outputs": [
    {
     "name": "stdout",
     "output_type": "stream",
     "text": [
      "['Resumption', 'of', 'the', 'session']\n",
      "['Reprise', 'de', 'la', 'session']\n",
      "0-0 1-1 2-2 3-3\n"
     ]
    }
   ],
   "source": [
    "print(comtrans.aligned_sents('alignment-en-fr.txt')[0].words)\n",
    "print(comtrans.aligned_sents('alignment-en-fr.txt')[0].mots)\n",
    "print(comtrans.aligned_sents('alignment-en-fr.txt')[0].alignment)"
   ]
  },
  {
   "cell_type": "markdown",
   "metadata": {},
   "source": [
    "* data retrival function"
   ]
  },
  {
   "cell_type": "code",
   "execution_count": 8,
   "metadata": {},
   "outputs": [],
   "source": [
    "def get_words(corpus_text):\n",
    "    corpus = comtrans.aligned_sents(corpus_text)\n",
    "    language_1 = [i.words for i in corpus]\n",
    "    language_2 = [i.mots for i in corpus]\n",
    "    return language_1, language_2"
   ]
  },
  {
   "cell_type": "code",
   "execution_count": 9,
   "metadata": {},
   "outputs": [],
   "source": [
    "language_1 = get_words('alignment-en-fr.txt')[0]\n",
    "language_2 = get_words('alignment-en-fr.txt')[1]\n",
    "\n",
    "df_lang_1 = pd.DataFrame({'sentence':language_1})\n",
    "df_lang_2 = pd.DataFrame({'sentence':language_2})"
   ]
  },
  {
   "cell_type": "code",
   "execution_count": 10,
   "metadata": {},
   "outputs": [],
   "source": [
    "df_lang_all = pd.concat([df_lang_1, df_lang_2], ignore_index=True)"
   ]
  },
  {
   "cell_type": "markdown",
   "metadata": {},
   "source": [
    "* data cleaning function for dataframes"
   ]
  },
  {
   "cell_type": "code",
   "execution_count": 11,
   "metadata": {},
   "outputs": [],
   "source": [
    "def preprocess(df):\n",
    "    \n",
    "    #remove all tokens that are not alphanumeric\n",
    "    words = df['sentence'].apply(lambda x: [i for i in x if i.isalnum()])\n",
    "    \n",
    "    # STEP 3: convert text to lowercase\n",
    "    words = words.apply(lambda x: [i.lower() for i in x])\n",
    "    \n",
    "    return words\n",
    "clean_l1 = preprocess(df_lang_1).tolist()\n",
    "clean_l2 = preprocess(df_lang_2).tolist()\n",
    "clean_all = preprocess(df_lang_all).tolist()"
   ]
  },
  {
   "cell_type": "code",
   "execution_count": 12,
   "metadata": {},
   "outputs": [],
   "source": [
    "def listToString(s): \n",
    "    \n",
    "    # initialize an empty string\n",
    "    str1 = \" \" \n",
    "    \n",
    "    # return string  \n",
    "    return (str1.join(s))"
   ]
  },
  {
   "cell_type": "code",
   "execution_count": 13,
   "metadata": {},
   "outputs": [],
   "source": [
    "l1 = list(map(listToString, clean_l1))\n",
    "l2 = list(map(listToString, clean_l2))\n",
    "lang_all = list(map(listToString, clean_all))"
   ]
  },
  {
   "cell_type": "markdown",
   "metadata": {},
   "source": [
    "* filtering for long sentences"
   ]
  },
  {
   "cell_type": "code",
   "execution_count": 14,
   "metadata": {},
   "outputs": [
    {
     "name": "stdout",
     "output_type": "stream",
     "text": [
      "The number of words in string are : 8\n"
     ]
    }
   ],
   "source": [
    "# using regex (findall()) function\n",
    "res = len(re.findall(r'\\w+', l1[3]))\n",
    "# total no of words\n",
    "print (\"The number of words in string are : \" + str(res))"
   ]
  },
  {
   "cell_type": "code",
   "execution_count": 15,
   "metadata": {},
   "outputs": [],
   "source": [
    "def filter_sentence_length(sentences_l1, sentences_l2):\n",
    "    filtered_sentences_l1 = []\n",
    "    filtered_sentences_l2 = []\n",
    "    for i  in range(len(l1)): \n",
    "        if 0 <= len(re.findall(r'\\w+', sentences_l1[i])) <= 20 and 0 <= len(re.findall(r'\\w+', sentences_l2[i])) <= 20:\n",
    "            filtered_sentences_l1.append(sentences_l1[i])\n",
    "            filtered_sentences_l2.append(sentences_l2[i])\n",
    "            \n",
    "    return filtered_sentences_l1,filtered_sentences_l2"
   ]
  },
  {
   "cell_type": "code",
   "execution_count": 16,
   "metadata": {},
   "outputs": [
    {
     "name": "stdout",
     "output_type": "stream",
     "text": [
      "# Filtered Corpora length (i.e. number of sentences)\n",
      "17748\n"
     ]
    }
   ],
   "source": [
    "data_l1, data_l2 = filter_sentence_length(l1, l2)\n",
    "print(\"# Filtered Corpora length (i.e. number of sentences)\")\n",
    "print(len(data_l1))\n",
    "assert len(data_l1) == len(data_l2)"
   ]
  },
  {
   "cell_type": "markdown",
   "metadata": {},
   "source": [
    "* combined l1 and l2"
   ]
  },
  {
   "cell_type": "code",
   "execution_count": 17,
   "metadata": {},
   "outputs": [],
   "source": [
    "dataset = np.array(list(zip(data_l1, data_l2)))"
   ]
  },
  {
   "cell_type": "markdown",
   "metadata": {},
   "source": [
    "* reduce size of dataset + train/test split"
   ]
  },
  {
   "cell_type": "code",
   "execution_count": 18,
   "metadata": {},
   "outputs": [],
   "source": [
    "# reduce dataset size\n",
    "n_sentences = int(6500)\n",
    "split_size = int(n_sentences * 0.8)\n",
    "\n",
    "data_lang = dataset[:n_sentences, :]\n",
    "# random shuffle\n",
    "shuffle(data_lang)\n",
    "\n",
    "# split into train/test\n",
    "train, test = data_lang[:split_size], data_lang[split_size:]"
   ]
  },
  {
   "cell_type": "markdown",
   "metadata": {},
   "source": [
    "* word vectorization and padding"
   ]
  },
  {
   "cell_type": "code",
   "execution_count": 19,
   "metadata": {},
   "outputs": [],
   "source": [
    "def tokenize(x):\n",
    "    tokenizer = Tokenizer()\n",
    "    tokenizer.fit_on_texts(x)\n",
    "    return tokenizer"
   ]
  },
  {
   "cell_type": "code",
   "execution_count": 20,
   "metadata": {},
   "outputs": [],
   "source": [
    "# max sentence length\n",
    "def max_length(lines):\n",
    "\treturn max(len(line.split()) for line in lines)"
   ]
  },
  {
   "cell_type": "code",
   "execution_count": null,
   "metadata": {},
   "outputs": [],
   "source": [
    "#l1 tokenizer\n",
    "l1_tokenizer = tokenize(data_lang[:, 0])\n",
    "l1_vocab_size = len(l1_tokenizer.word_index) + 1\n",
    "l1_length = max_length(data_lang[:, 0])\n",
    "print('English Vocabulary Size: %d' % l1_vocab_size)\n",
    "print('English Max Length: %d' % (l1_length))\n",
    "\n",
    "# l2 tokenizer\n",
    "l2_tokenizer = tokenize(data_lang[:, 1])\n",
    "l2_vocab_size = len(l2_tokenizer.word_index) + 1\n",
    "l2_length = max_length(data_lang[:, 1])\n",
    "print('French Vocabulary Size: %d' % l2_vocab_size)\n",
    "print('French Max Length: %d' % (l2_length))"
   ]
  },
  {
   "cell_type": "code",
   "execution_count": 21,
   "metadata": {},
   "outputs": [],
   "source": [
    "# encode and pad sequences\n",
    "def encode_sequences(tokenizer, length, lines):\n",
    "\t# integer encode sequences\n",
    "\tX = tokenizer.texts_to_sequences(lines)\n",
    "\t# pad sequences with 0 values\n",
    "\tX = pad_sequences(X, maxlen=length, padding='post')\n",
    "\treturn X"
   ]
  },
  {
   "cell_type": "code",
   "execution_count": 22,
   "metadata": {},
   "outputs": [],
   "source": [
    "def encode_output(sequences, vocab_size):\n",
    "\tylist = []\n",
    "\tfor sequence in sequences:\n",
    "\t\tencoded = to_categorical(sequence, num_classes=vocab_size)\n",
    "\t\tylist.append(encoded)\n",
    "\ty = np.array(ylist)\n",
    "\ty = y.reshape(sequences.shape[0], sequences.shape[1], vocab_size)\n",
    "\treturn y"
   ]
  },
  {
   "cell_type": "markdown",
   "metadata": {},
   "source": [
    "* populate training and splitting"
   ]
  },
  {
   "cell_type": "code",
   "execution_count": null,
   "metadata": {},
   "outputs": [],
   "source": [
    "# prepare training data\n",
    "trainX = encode_sequences(l1_tokenizer, l1_length, train[:, 0])\n",
    "trainY = encode_sequences(l2_tokenizer, l2_length, train[:, 1])\n",
    "#trainY = encode_output(trainY, l2_vocab_size)\n",
    "\n",
    "# prepare validation data\n",
    "testX = encode_sequences(l1_tokenizer, l1_length, test[:, 0])\n",
    "testY = encode_sequences(l2_tokenizer, l2_length, test[:, 1])\n",
    "#testY = encode_output(testY, l2_vocab_size)"
   ]
  },
  {
   "cell_type": "code",
   "execution_count": null,
   "metadata": {},
   "outputs": [],
   "source": [
    "from tensorflow.keras.utils import Sequence\n",
    "\n",
    "class SentenceGenerator (Sequence):\n",
    "    def __init__(self, X, y, vocab_size, batch_size, to_fit=True):\n",
    "        self.X = X\n",
    "        self.y = y\n",
    "        self.vocab_size = vocab_size\n",
    "        self.batch_size = batch_size\n",
    "        self.on_epoch_end()\n",
    "        self.to_fit = to_fit\n",
    "        \n",
    "        #self.shuffle = shuffle\n",
    "    def __len__(self):\n",
    "        return len(self.y) // self.batch_size\n",
    "    \n",
    "    def __getitem__(self, item):\n",
    "        X = self.X[item * self.batch_size : (item + 1) * self.batch_size]\n",
    "        if self.to_fit:\n",
    "            y = self.y[item * self.batch_size : (item + 1) * self.batch_size]\n",
    "            y = encode_output(y, self.vocab_size)\n",
    "            return X, y\n",
    "        \n",
    "        else:\n",
    "            return X\n"
   ]
  },
  {
   "cell_type": "code",
   "execution_count": null,
   "metadata": {},
   "outputs": [],
   "source": [
    "testdataset = SentenceGenerator(testX, testY, l2_vocab_size, 32)\n",
    "traindataset = SentenceGenerator(trainX, trainY, l2_vocab_size, 32)"
   ]
  },
  {
   "cell_type": "markdown",
   "metadata": {},
   "source": [
    "* modeling "
   ]
  },
  {
   "cell_type": "code",
   "execution_count": null,
   "metadata": {},
   "outputs": [],
   "source": [
    "def define_model(src_vocab, tar_vocab, src_timesteps, tar_timesteps, n_units):\n",
    "    model = Sequential()\n",
    "    model.add(Embedding(src_vocab, n_units, input_length=src_timesteps, mask_zero=True))\n",
    "    model.add(LSTM(n_units))\n",
    "    model.add(Dropout(0.2))\n",
    "    model.add(RepeatVector(tar_timesteps))\n",
    "    model.add(LSTM(n_units, return_sequences=True))\n",
    "    model.add(Dropout(0.2))\n",
    "    model.add(TimeDistributed(Dense(tar_vocab, activation='softmax')))\n",
    "    return model"
   ]
  },
  {
   "cell_type": "code",
   "execution_count": null,
   "metadata": {},
   "outputs": [],
   "source": [
    "# define model\n",
    "model = define_model(l1_vocab_size, l2_vocab_size, l1_length, l2_length, 256)\n",
    "\n",
    "model.compile(optimizer='adam', loss='categorical_crossentropy',  metrics=['accuracy'])\n",
    "# summarize defined model\n",
    "print(model.summary())"
   ]
  },
  {
   "cell_type": "code",
   "execution_count": null,
   "metadata": {},
   "outputs": [],
   "source": [
    "# fit model\n",
    "filename = 'model.h5'\n",
    "checkpoint = ModelCheckpoint(filename, monitor='val_loss', verbose=1, save_best_only=True, mode='min')\n",
    "model.fit(traindataset, validation_data=testdataset, epochs=17, batch_size=64, callbacks=[checkpoint], verbose=2)"
   ]
  },
  {
   "cell_type": "markdown",
   "metadata": {},
   "source": [
    "## Model evaluation"
   ]
  },
  {
   "cell_type": "markdown",
   "metadata": {},
   "source": [
    "* creating source and doing preprocessing"
   ]
  },
  {
   "cell_type": "code",
   "execution_count": 23,
   "metadata": {},
   "outputs": [],
   "source": [
    "data_lang_test = dataset[5000:5010, :]\n",
    "# random shuffle\n",
    "shuffle(data_lang_test)\n",
    "# split into train/test\n",
    "train_val, test_val = data_lang_test[:1], data_lang_test[:2]"
   ]
  },
  {
   "cell_type": "code",
   "execution_count": 24,
   "metadata": {},
   "outputs": [],
   "source": [
    "#l1 tokenizer\n",
    "l1_tokenizer = tokenize(data_lang_test[:, 0])\n",
    "l1_vocab_size = len(l1_tokenizer.word_index) + 1\n",
    "l1_length = max_length(data_lang_test[:, 0])\n",
    "\n",
    "# l2 tokenizer\n",
    "l2_tokenizer = tokenize(data_lang_test[:, 1])\n",
    "l2_vocab_size = len(l2_tokenizer.word_index) + 1\n",
    "l2_length = max_length(data_lang_test[:, 1])\n",
    "\n",
    "# prepare data\n",
    "trainX = encode_sequences(l1_tokenizer, l1_length, train_val[:, 0])\n",
    "testX = encode_sequences(l1_tokenizer, l1_length, test_val[:, 0])\n",
    "\n",
    "# load model\n",
    "model = load_model('model.h5') "
   ]
  },
  {
   "cell_type": "markdown",
   "metadata": {},
   "source": [
    "* evaluation"
   ]
  },
  {
   "cell_type": "code",
   "execution_count": 27,
   "metadata": {},
   "outputs": [],
   "source": [
    "# map an integer to a word\n",
    "def word_for_id(integer, tokenizer):\n",
    "\tfor word, index in tokenizer.word_index.items():\n",
    "\t\tif index == integer:\n",
    "\t\t\treturn word\n",
    "\treturn None"
   ]
  },
  {
   "cell_type": "code",
   "execution_count": 28,
   "metadata": {},
   "outputs": [],
   "source": [
    "# generate target given source sequence\n",
    "def predict_sequence(model, tokenizer, source):\n",
    "\tprediction = model.predict(source, verbose=0)[0]\n",
    "\tintegers = [argmax(vector) for vector in prediction]\n",
    "\ttarget = list()\n",
    "\tfor i in integers:\n",
    "\t\tword = word_for_id(i, tokenizer)\n",
    "\t\tif word is None:\n",
    "\t\t\tbreak\n",
    "\t\ttarget.append(word)\n",
    "\treturn ' '.join(target)"
   ]
  },
  {
   "cell_type": "code",
   "execution_count": 50,
   "metadata": {},
   "outputs": [],
   "source": [
    "# evaluate the skill of the model\n",
    "def evaluate_model(model, tokenizer, sources, raw_dataset):\n",
    "    actual, predicted = list(), list()\n",
    "    for i, source in enumerate(sources):\n",
    "        # translate encoded source text\n",
    "        source = source.reshape((1, source.shape[0]))\n",
    "        translation = predict_sequence(model, l2_tokenizer, source)\n",
    "        raw_src, raw_target = raw_dataset[i]\n",
    "        print(raw_dataset)\n",
    "        print(raw_scr)\n",
    "        print(raw_targe)\n",
    "        if i < 10:\n",
    "            print('src=[%s], target=[%s], predicted=[%s]' % (raw_src, raw_target, translation))\n",
    "            actual.append([raw_target.split()])\n",
    "            predicted.append(translation.split())\n",
    "\t# calculate BLEU score\n",
    "    print('BLEU-1: %f' % corpus_bleu(actual, predicted, weights=(1.0, 0, 0, 0)))\n",
    "    print('BLEU-2: %f' % corpus_bleu(actual, predicted, weights=(0.5, 0.5, 0, 0)))\n",
    "    print('BLEU-3: %f' % corpus_bleu(actual, predicted, weights=(0.3, 0.3, 0.3, 0)))\n",
    "    print('BLEU-4: %f' % corpus_bleu(actual, predicted, weights=(0.25, 0.25, 0.25, 0.25)))"
   ]
  },
  {
   "cell_type": "code",
   "execution_count": 62,
   "metadata": {},
   "outputs": [],
   "source": [
    "# evaluate the skill of the model\n",
    "def evaluate_model1(model, tokenizer, sources, raw_dataset):\n",
    "    actual, predicted = list(), list()\n",
    "    for i, source in enumerate(sources):\n",
    "        # translate encoded source text\n",
    "        \n",
    "        source = source.reshape((1, source.shape[0]))\n",
    "        translation = predict_sequence(model, l2_tokenizer, source)\n",
    "        raw_target, raw_src = raw_dataset[i]\n",
    "        print(raw_dataset)\n",
    "        print(raw_src)\n",
    "        print(raw_target)\n",
    "        if i < 10:\n",
    "            print('src=[%s], target=[%s], predicted=[%s]' % (raw_src, raw_target, translation))\n",
    "            actual.append([raw_target.split()])\n",
    "            predicted.append(translation.split())\n",
    "\t# calculate BLEU score\n",
    "    print('BLEU-1: %f' % corpus_bleu(actual, predicted, weights=(1.0, 0, 0, 0)))\n",
    "    print('BLEU-2: %f' % corpus_bleu(actual, predicted, weights=(0.5, 0.5, 0, 0)))\n",
    "    print('BLEU-3: %f' % corpus_bleu(actual, predicted, weights=(0.3, 0.3, 0.3, 0)))\n",
    "    print('BLEU-4: %f' % corpus_bleu(actual, predicted, weights=(0.25, 0.25, 0.25, 0.25)))"
   ]
  },
  {
   "cell_type": "code",
   "execution_count": 52,
   "metadata": {},
   "outputs": [
    {
     "name": "stdout",
     "output_type": "stream",
     "text": [
      "train\n",
      "[['these are the modern means to be used'\n",
      "  'nous allons utiliser tous ces moyens modernes']]\n",
      "src=[these are the modern means to be used], target=[nous allons utiliser tous ces moyens modernes], predicted=[allons des des de de]\n",
      "BLEU-1: 0.134064\n",
      "BLEU-2: 0.000000\n",
      "BLEU-3: 0.000000\n",
      "BLEU-4: 0.000000\n"
     ]
    }
   ],
   "source": [
    "# test on some training sequences\n",
    "print('train')\n",
    "evaluate_model(model, l2_tokenizer, trainX, train_val)"
   ]
  },
  {
   "cell_type": "code",
   "execution_count": 63,
   "metadata": {},
   "outputs": [
    {
     "name": "stdout",
     "output_type": "stream",
     "text": [
      "train\n",
      "[['these are the modern means to be used'\n",
      "  'nous allons utiliser tous ces moyens modernes']]\n",
      "nous allons utiliser tous ces moyens modernes\n",
      "these are the modern means to be used\n",
      "src=[nous allons utiliser tous ces moyens modernes], target=[these are the modern means to be used], predicted=[allons des des de de]\n",
      "BLEU-1: 0.000000\n",
      "BLEU-2: 0.000000\n",
      "BLEU-3: 0.000000\n",
      "BLEU-4: 0.000000\n"
     ]
    }
   ],
   "source": [
    "# test on some training sequences\n",
    "print('train')\n",
    "evaluate_model1(model, l2_tokenizer, trainX, train_val)"
   ]
  },
  {
   "cell_type": "code",
   "execution_count": 53,
   "metadata": {},
   "outputs": [
    {
     "name": "stdout",
     "output_type": "stream",
     "text": [
      "test\n",
      "[['these are the modern means to be used'\n",
      "  'nous allons utiliser tous ces moyens modernes']\n",
      " ['it is shameful' 'est une honte']]\n",
      "src=[these are the modern means to be used], target=[nous allons utiliser tous ces moyens modernes], predicted=[allons des des de de]\n",
      "[['these are the modern means to be used'\n",
      "  'nous allons utiliser tous ces moyens modernes']\n",
      " ['it is shameful' 'est une honte']]\n",
      "src=[it is shameful], target=[est une honte], predicted=[une des]\n",
      "BLEU-1: 0.186125\n",
      "BLEU-2: 0.000000\n",
      "BLEU-3: 0.000000\n",
      "BLEU-4: 0.000000\n"
     ]
    }
   ],
   "source": [
    "# test on some test sequences\n",
    "print('test')\n",
    "evaluate_model(model, l2_tokenizer, testX, test_val)"
   ]
  }
 ],
 "metadata": {
  "kernelspec": {
   "display_name": "Python 3",
   "language": "python",
   "name": "python3"
  },
  "language_info": {
   "codemirror_mode": {
    "name": "ipython",
    "version": 3
   },
   "file_extension": ".py",
   "mimetype": "text/x-python",
   "name": "python",
   "nbconvert_exporter": "python",
   "pygments_lexer": "ipython3",
   "version": "3.8.5"
  }
 },
 "nbformat": 4,
 "nbformat_minor": 4
}
