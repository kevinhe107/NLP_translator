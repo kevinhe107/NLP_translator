{
 "cells": [
  {
   "cell_type": "markdown",
   "metadata": {},
   "source": [
    "## Language Translator"
   ]
  },
  {
   "cell_type": "code",
   "execution_count": 28,
   "metadata": {},
   "outputs": [],
   "source": [
    "import nltk\n",
    "import pandas as pd\n",
    "import numpy as np\n",
    "import collections\n",
    "\n",
    "\n",
    "from keras.preprocessing.text import Tokenizer\n",
    "from keras.preprocessing.sequence import pad_sequences\n",
    "from keras.models import Model, Sequential\n",
    "from keras.layers import GRU, Input, Dense, TimeDistributed, Activation, RepeatVector, Bidirectional, Dropout, LSTM\n",
    "from keras.layers.embeddings import Embedding\n",
    "from keras.optimizers import Adam\n",
    "from sklearn.model_selection import train_test_split\n",
    "from keras.losses import sparse_categorical_crossentropy\n",
    "\n",
    "from keras.layers import LSTM\n",
    "from keras.layers import Dense\n",
    "from keras.layers import Embedding\n",
    "from keras.layers import RepeatVector\n",
    "from keras.layers import TimeDistributed\n",
    "from keras.callbacks import ModelCheckpoint\n",
    "from keras.utils import to_categorical\n",
    "\n",
    "from keras.utils.vis_utils import plot_model\n",
    "from numpy.random import rand\n",
    "from numpy.random import shuffle\n",
    "\n",
    "from keras.models import load_model\n",
    "\n",
    "from nltk.translate.bleu_score import corpus_bleu\n",
    "\n",
    "from numpy import argmax\n"
   ]
  },
  {
   "cell_type": "markdown",
   "metadata": {},
   "source": [
    "From `nltk` we can download translated sentences between different languages. You can see the example between **English and French** below but feel free to try different combination as well."
   ]
  },
  {
   "cell_type": "code",
   "execution_count": 29,
   "metadata": {},
   "outputs": [
    {
     "name": "stderr",
     "output_type": "stream",
     "text": [
      "[nltk_data] Downloading package comtrans to\n",
      "[nltk_data]     C:\\Users\\kevin\\AppData\\Roaming\\nltk_data...\n",
      "[nltk_data]   Package comtrans is already up-to-date!\n"
     ]
    },
    {
     "data": {
      "text/plain": [
       "True"
      ]
     },
     "execution_count": 29,
     "metadata": {},
     "output_type": "execute_result"
    }
   ],
   "source": [
    "nltk.download('comtrans')"
   ]
  },
  {
   "cell_type": "code",
   "execution_count": 30,
   "metadata": {},
   "outputs": [
    {
     "name": "stdout",
     "output_type": "stream",
     "text": [
      "<AlignedSent: 'Resumption of the se...' -> 'Reprise de la sessio...'>\n"
     ]
    }
   ],
   "source": [
    "from nltk.corpus import comtrans\n",
    "print(comtrans.aligned_sents('alignment-en-fr.txt')[0])"
   ]
  },
  {
   "cell_type": "code",
   "execution_count": 31,
   "metadata": {},
   "outputs": [
    {
     "data": {
      "text/plain": [
       "<AlignedCorpusReader in 'C:\\\\Users\\\\kevin\\\\AppData\\\\Roaming\\\\nltk_data\\\\corpora\\\\comtrans.zip/comtrans/'>"
      ]
     },
     "execution_count": 31,
     "metadata": {},
     "output_type": "execute_result"
    }
   ],
   "source": [
    "comtrans"
   ]
  },
  {
   "cell_type": "code",
   "execution_count": 32,
   "metadata": {},
   "outputs": [
    {
     "data": {
      "text/plain": [
       "33334"
      ]
     },
     "execution_count": 32,
     "metadata": {},
     "output_type": "execute_result"
    }
   ],
   "source": [
    "len(comtrans.aligned_sents('alignment-en-fr.txt'))"
   ]
  },
  {
   "cell_type": "markdown",
   "metadata": {},
   "source": [
    "### Data exploration and retrival"
   ]
  },
  {
   "cell_type": "code",
   "execution_count": 33,
   "metadata": {},
   "outputs": [
    {
     "name": "stdout",
     "output_type": "stream",
     "text": [
      "['Resumption', 'of', 'the', 'session']\n",
      "['Reprise', 'de', 'la', 'session']\n",
      "0-0 1-1 2-2 3-3\n"
     ]
    }
   ],
   "source": [
    "print(comtrans.aligned_sents('alignment-en-fr.txt')[0].words)\n",
    "print(comtrans.aligned_sents('alignment-en-fr.txt')[0].mots)\n",
    "print(comtrans.aligned_sents('alignment-en-fr.txt')[0].alignment)"
   ]
  },
  {
   "cell_type": "markdown",
   "metadata": {},
   "source": [
    "* data retrival function"
   ]
  },
  {
   "cell_type": "code",
   "execution_count": 34,
   "metadata": {},
   "outputs": [],
   "source": [
    "def get_words(corpus_text):\n",
    "    corpus = comtrans.aligned_sents(corpus_text)\n",
    "    language_1 = [i.words for i in corpus]\n",
    "    language_2 = [i.mots for i in corpus]\n",
    "    \n",
    "    return language_1, language_2"
   ]
  },
  {
   "cell_type": "code",
   "execution_count": 35,
   "metadata": {},
   "outputs": [],
   "source": [
    "language_1 = get_words('alignment-en-fr.txt')[0]\n",
    "language_2 = get_words('alignment-en-fr.txt')[1]\n",
    "    \n",
    "df_lang_1 = pd.DataFrame({'sentence':language_1})\n",
    "df_lang_2 = pd.DataFrame({'sentence':language_2})"
   ]
  },
  {
   "cell_type": "code",
   "execution_count": 36,
   "metadata": {},
   "outputs": [],
   "source": [
    "df_lang_all = pd.concat([df_lang_1, df_lang_2], ignore_index=True)"
   ]
  },
  {
   "cell_type": "markdown",
   "metadata": {},
   "source": [
    "* data cleaning function for dataframes"
   ]
  },
  {
   "cell_type": "code",
   "execution_count": 37,
   "metadata": {},
   "outputs": [],
   "source": [
    "def preprocess(df):\n",
    "    \n",
    "    #remove all tokens that are not alphanumeric\n",
    "    words = df['sentence'].apply(lambda x: [i for i in x if i.isalnum()])\n",
    "    \n",
    "    # STEP 3: convert text to lowercase\n",
    "    words = words.apply(lambda x: [i.lower() for i in x])\n",
    "    \n",
    "    return words\n",
    "clean_l1 = preprocess(df_lang_1).tolist()\n",
    "clean_l2 = preprocess(df_lang_2).tolist()\n",
    "clean_all = preprocess(df_lang_all).tolist()"
   ]
  },
  {
   "cell_type": "code",
   "execution_count": 38,
   "metadata": {},
   "outputs": [],
   "source": [
    "def listToString(s): \n",
    "    \n",
    "    # initialize an empty string\n",
    "    str1 = \" \" \n",
    "    \n",
    "    # return string  \n",
    "    return (str1.join(s))"
   ]
  },
  {
   "cell_type": "code",
   "execution_count": 84,
   "metadata": {},
   "outputs": [],
   "source": [
    "l1 = list(map(listToString, clean_l1))\n",
    "l2 = list(map(listToString, clean_l2))\n",
    "lang_all = list(map(listToString, clean_all))"
   ]
  },
  {
   "cell_type": "code",
   "execution_count": 88,
   "metadata": {},
   "outputs": [
    {
     "data": {
      "text/plain": [
       "'i declare resumed the session of the european parliament adjourned on friday 17 december 1999 and i would like once again to wish you a happy new year in the hope that you enjoyed a pleasant festive period'"
      ]
     },
     "execution_count": 88,
     "metadata": {},
     "output_type": "execute_result"
    }
   ],
   "source": []
  },
  {
   "cell_type": "markdown",
   "metadata": {},
   "source": [
    "* decrease shape of sentences, DOES NOT WORK YET"
   ]
  },
  {
   "cell_type": "code",
   "execution_count": 89,
   "metadata": {},
   "outputs": [],
   "source": [
    "def filter_sentence_length(sentences_l1, sentences_l2, min_len=0, max_len=20):\n",
    "    filtered_sentences_l1 = []\n",
    "    filtered_sentences_l2 = []\n",
    "    for i in range(len(sentences_l1)):\n",
    "        if min_len <= len(sentences_l1[i]) <= max_len and min_len <= len(sentences_l2[i]) <= max_len:\n",
    "            filtered_sentences_l1.append(sentences_l1[i])\n",
    "            filtered_sentences_l2.append(sentences_l2[i])\n",
    "            return filtered_sentences_l1, filtered_sentences_l2"
   ]
  },
  {
   "cell_type": "code",
   "execution_count": 90,
   "metadata": {},
   "outputs": [
    {
     "name": "stdout",
     "output_type": "stream",
     "text": [
      "# Filtered Corpora length (i.e. number of sentences)\n",
      "1\n"
     ]
    }
   ],
   "source": [
    "filt_clean_sen_l1, filt_clean_sen_l2 = filter_sentence_length(l1, l2)\n",
    "print(\"# Filtered Corpora length (i.e. number of sentences)\")\n",
    "print(len(filt_clean_sen_l1))\n",
    "assert len(filt_clean_sen_l1) == len(filt_clean_sen_l2)"
   ]
  },
  {
   "cell_type": "markdown",
   "metadata": {},
   "source": [
    "* combined l1 and l2"
   ]
  },
  {
   "cell_type": "code",
   "execution_count": 40,
   "metadata": {},
   "outputs": [],
   "source": [
    "dataset = np.array(list(zip(l1, l2)))"
   ]
  },
  {
   "cell_type": "markdown",
   "metadata": {},
   "source": [
    "* reduce size of dataset + train/test split"
   ]
  },
  {
   "cell_type": "code",
   "execution_count": 43,
   "metadata": {},
   "outputs": [],
   "source": [
    "# reduce dataset size\n",
    "n_sentences = int(7000)\n",
    "split_size = int(n_sentences * 0.8)\n",
    "\n",
    "data_lang = dataset[:n_sentences, :]\n",
    "# random shuffle\n",
    "shuffle(data_lang)\n",
    "# split into train/test\n",
    "train, test = data_lang[:split_size], data_lang[split_size:]"
   ]
  },
  {
   "cell_type": "markdown",
   "metadata": {},
   "source": [
    "* word vectorization and padding"
   ]
  },
  {
   "cell_type": "code",
   "execution_count": 44,
   "metadata": {},
   "outputs": [],
   "source": [
    "def tokenize(x):\n",
    "    tokenizer = Tokenizer()\n",
    "    tokenizer.fit_on_texts(x)\n",
    "    return tokenizer"
   ]
  },
  {
   "cell_type": "code",
   "execution_count": 45,
   "metadata": {},
   "outputs": [],
   "source": [
    "# max sentence length\n",
    "def max_length(lines):\n",
    "\treturn max(len(line.split()) for line in lines)"
   ]
  },
  {
   "cell_type": "code",
   "execution_count": 46,
   "metadata": {},
   "outputs": [
    {
     "name": "stdout",
     "output_type": "stream",
     "text": [
      "English Vocabulary Size: 7685\n",
      "English Max Length: 39\n",
      "French Vocabulary Size: 10110\n",
      "French Max Length: 38\n"
     ]
    }
   ],
   "source": [
    "#l1 tokenizer\n",
    "l1_tokenizer = tokenize(data_lang[:, 0])\n",
    "l1_vocab_size = len(l1_tokenizer.word_index) + 1\n",
    "l1_length = max_length(data_lang[:, 0])\n",
    "print('English Vocabulary Size: %d' % l1_vocab_size)\n",
    "print('English Max Length: %d' % (l1_length))\n",
    "\n",
    "# l2 tokenizer\n",
    "l2_tokenizer = tokenize(data_lang[:, 1])\n",
    "l2_vocab_size = len(l2_tokenizer.word_index) + 1\n",
    "l2_length = max_length(data_lang[:, 1])\n",
    "print('French Vocabulary Size: %d' % l2_vocab_size)\n",
    "print('French Max Length: %d' % (l2_length))"
   ]
  },
  {
   "cell_type": "code",
   "execution_count": 69,
   "metadata": {},
   "outputs": [
    {
     "ename": "SyntaxError",
     "evalue": "EOL while scanning string literal (<ipython-input-69-6e9a920945cd>, line 3)",
     "output_type": "error",
     "traceback": [
      "\u001b[1;36m  File \u001b[1;32m\"<ipython-input-69-6e9a920945cd>\"\u001b[1;36m, line \u001b[1;32m3\u001b[0m\n\u001b[1;33m    filename = path.join(mkdtemp(), 'newfile.dat\u001b[0m\n\u001b[1;37m                                                ^\u001b[0m\n\u001b[1;31mSyntaxError\u001b[0m\u001b[1;31m:\u001b[0m EOL while scanning string literal\n"
     ]
    }
   ],
   "source": [
    "from tempfile import mkdtemp\n",
    "import os.path as path\n",
    "filename = path.join(mkdtemp(), 'newfile.dat"
   ]
  },
  {
   "cell_type": "code",
   "execution_count": 47,
   "metadata": {},
   "outputs": [],
   "source": [
    "# encode and pad sequences\n",
    "def encode_sequences(tokenizer, length, lines):\n",
    "\t# integer encode sequences\n",
    "\tX = tokenizer.texts_to_sequences(lines)\n",
    "\t# pad sequences with 0 values\n",
    "\tX = pad_sequences(X, maxlen=length, padding='post')\n",
    "\treturn X"
   ]
  },
  {
   "cell_type": "code",
   "execution_count": 48,
   "metadata": {},
   "outputs": [],
   "source": [
    "def encode_output(sequences, vocab_size):\n",
    "\tylist = []\n",
    "\tfor sequence in sequences:\n",
    "\t\tencoded = to_categorical(sequence, num_classes=vocab_size)\n",
    "\t\tylist.append(encoded)\n",
    "\ty = np.array(ylist)\n",
    "\ty = y.reshape(sequences.shape[0], sequences.shape[1], vocab_size)\n",
    "\treturn y"
   ]
  },
  {
   "cell_type": "markdown",
   "metadata": {},
   "source": [
    "* populate training and splitting"
   ]
  },
  {
   "cell_type": "code",
   "execution_count": 49,
   "metadata": {},
   "outputs": [],
   "source": [
    "# prepare training data\n",
    "trainX = encode_sequences(l1_tokenizer, l1_length, train[:, 0])\n",
    "trainY = encode_sequences(l2_tokenizer, l2_length, train[:, 1])\n",
    "trainY = encode_output(trainY, l2_vocab_size)\n",
    "# prepare validation data\n",
    "testX = encode_sequences(l1_tokenizer, l1_length, test[:, 0])\n",
    "testY = encode_sequences(l2_tokenizer, l2_length, test[:, 1])\n",
    "testY = encode_output(testY, l2_vocab_size)"
   ]
  },
  {
   "cell_type": "markdown",
   "metadata": {},
   "source": [
    "* modeling "
   ]
  },
  {
   "cell_type": "code",
   "execution_count": 66,
   "metadata": {},
   "outputs": [],
   "source": [
    "def define_model(src_vocab, tar_vocab, src_timesteps, tar_timesteps, n_units):\n",
    "    model = Sequential()\n",
    "    model.add(Embedding(src_vocab, n_units, input_length=src_timesteps, mask_zero=True))\n",
    "    model.add(LSTM(n_units))\n",
    "    model.add(Dropout(0.2))\n",
    "    model.add(RepeatVector(tar_timesteps))\n",
    "    model.add(LSTM(n_units, return_sequences=True))\n",
    "    model.add(Dropout(0.2))\n",
    "    model.add(TimeDistributed(Dense(tar_vocab, activation='softmax')))\n",
    "    return model"
   ]
  },
  {
   "cell_type": "code",
   "execution_count": 67,
   "metadata": {},
   "outputs": [
    {
     "name": "stdout",
     "output_type": "stream",
     "text": [
      "Model: \"sequential_1\"\n",
      "_________________________________________________________________\n",
      "Layer (type)                 Output Shape              Param #   \n",
      "=================================================================\n",
      "embedding_1 (Embedding)      (None, 39, 256)           1967360   \n",
      "_________________________________________________________________\n",
      "lstm_1 (LSTM)                (None, 256)               525312    \n",
      "_________________________________________________________________\n",
      "dropout (Dropout)            (None, 256)               0         \n",
      "_________________________________________________________________\n",
      "repeat_vector (RepeatVector) (None, 38, 256)           0         \n",
      "_________________________________________________________________\n",
      "lstm_2 (LSTM)                (None, 38, 256)           525312    \n",
      "_________________________________________________________________\n",
      "dropout_1 (Dropout)          (None, 38, 256)           0         \n",
      "_________________________________________________________________\n",
      "time_distributed (TimeDistri (None, 38, 10110)         2598270   \n",
      "=================================================================\n",
      "Total params: 5,616,254\n",
      "Trainable params: 5,616,254\n",
      "Non-trainable params: 0\n",
      "_________________________________________________________________\n",
      "None\n"
     ]
    }
   ],
   "source": [
    "# define model\n",
    "model = define_model(l1_vocab_size, l2_vocab_size, l1_length, l2_length, 256)\n",
    "\n",
    "model.compile(optimizer='adam', loss='categorical_crossentropy',  metrics=['accuracy'])\n",
    "# summarize defined model\n",
    "print(model.summary())"
   ]
  },
  {
   "cell_type": "code",
   "execution_count": 68,
   "metadata": {},
   "outputs": [
    {
     "name": "stdout",
     "output_type": "stream",
     "text": [
      "Epoch 1/17\n",
      "88/88 - 120s - loss: 4.7104 - accuracy: 0.5077 - val_loss: 3.9638 - val_accuracy: 0.5135\n",
      "\n",
      "Epoch 00001: val_loss improved from inf to 3.96382, saving model to model.h5\n",
      "Epoch 2/17\n",
      "88/88 - 108s - loss: 3.8689 - accuracy: 0.5136 - val_loss: 3.7632 - val_accuracy: 0.5134\n",
      "\n",
      "Epoch 00002: val_loss improved from 3.96382 to 3.76317, saving model to model.h5\n",
      "Epoch 3/17\n",
      "88/88 - 117s - loss: 3.6557 - accuracy: 0.5136 - val_loss: 3.6354 - val_accuracy: 0.5131\n",
      "\n",
      "Epoch 00003: val_loss improved from 3.76317 to 3.63542, saving model to model.h5\n",
      "Epoch 4/17\n",
      "88/88 - 115s - loss: 3.5655 - accuracy: 0.5135 - val_loss: 3.5484 - val_accuracy: 0.5138\n",
      "\n",
      "Epoch 00004: val_loss improved from 3.63542 to 3.54839, saving model to model.h5\n",
      "Epoch 5/17\n",
      "88/88 - 115s - loss: 3.5058 - accuracy: 0.5185 - val_loss: 3.5227 - val_accuracy: 0.5211\n",
      "\n",
      "Epoch 00005: val_loss improved from 3.54839 to 3.52275, saving model to model.h5\n",
      "Epoch 6/17\n",
      "88/88 - 111s - loss: 3.4649 - accuracy: 0.5237 - val_loss: 3.5271 - val_accuracy: 0.5288\n",
      "\n",
      "Epoch 00006: val_loss did not improve from 3.52275\n",
      "Epoch 7/17\n",
      "88/88 - 110s - loss: 3.4154 - accuracy: 0.5281 - val_loss: 3.5167 - val_accuracy: 0.5298\n",
      "\n",
      "Epoch 00007: val_loss improved from 3.52275 to 3.51672, saving model to model.h5\n",
      "Epoch 8/17\n",
      "88/88 - 111s - loss: 3.3985 - accuracy: 0.5306 - val_loss: 3.5374 - val_accuracy: 0.5305\n",
      "\n",
      "Epoch 00008: val_loss did not improve from 3.51672\n",
      "Epoch 9/17\n",
      "88/88 - 109s - loss: 3.3714 - accuracy: 0.5324 - val_loss: 3.5293 - val_accuracy: 0.5287\n",
      "\n",
      "Epoch 00009: val_loss did not improve from 3.51672\n",
      "Epoch 10/17\n",
      "88/88 - 110s - loss: 3.3516 - accuracy: 0.5335 - val_loss: 3.5257 - val_accuracy: 0.5262\n",
      "\n",
      "Epoch 00010: val_loss did not improve from 3.51672\n",
      "Epoch 11/17\n",
      "88/88 - 115s - loss: 3.3330 - accuracy: 0.5338 - val_loss: 3.5512 - val_accuracy: 0.5177\n",
      "\n",
      "Epoch 00011: val_loss did not improve from 3.51672\n",
      "Epoch 12/17\n",
      "88/88 - 108s - loss: 3.3178 - accuracy: 0.5349 - val_loss: 3.5431 - val_accuracy: 0.5278\n",
      "\n",
      "Epoch 00012: val_loss did not improve from 3.51672\n",
      "Epoch 13/17\n",
      "88/88 - 109s - loss: 3.3083 - accuracy: 0.5356 - val_loss: 3.5592 - val_accuracy: 0.5187\n",
      "\n",
      "Epoch 00013: val_loss did not improve from 3.51672\n",
      "Epoch 14/17\n",
      "88/88 - 110s - loss: 3.2978 - accuracy: 0.5361 - val_loss: 3.5706 - val_accuracy: 0.5240\n",
      "\n",
      "Epoch 00014: val_loss did not improve from 3.51672\n",
      "Epoch 15/17\n",
      "88/88 - 110s - loss: 3.3055 - accuracy: 0.5365 - val_loss: 3.5872 - val_accuracy: 0.5229\n",
      "\n",
      "Epoch 00015: val_loss did not improve from 3.51672\n",
      "Epoch 16/17\n",
      "88/88 - 115s - loss: 3.2903 - accuracy: 0.5368 - val_loss: 3.5838 - val_accuracy: 0.5228\n",
      "\n",
      "Epoch 00016: val_loss did not improve from 3.51672\n",
      "Epoch 17/17\n",
      "88/88 - 112s - loss: 3.2789 - accuracy: 0.5369 - val_loss: 3.5765 - val_accuracy: 0.5186\n",
      "\n",
      "Epoch 00017: val_loss did not improve from 3.51672\n"
     ]
    },
    {
     "data": {
      "text/plain": [
       "<tensorflow.python.keras.callbacks.History at 0x270f37e1940>"
      ]
     },
     "execution_count": 68,
     "metadata": {},
     "output_type": "execute_result"
    }
   ],
   "source": [
    "# fit model\n",
    "filename = 'model.h5'\n",
    "checkpoint = ModelCheckpoint(filename, monitor='val_loss', verbose=1, save_best_only=True, mode='min')\n",
    "model.fit(trainX, trainY, epochs=17, batch_size=64, validation_data=(testX, testY), callbacks=[checkpoint], verbose=2)"
   ]
  },
  {
   "cell_type": "markdown",
   "metadata": {},
   "source": [
    "## Model evaluation"
   ]
  },
  {
   "cell_type": "markdown",
   "metadata": {},
   "source": [
    "* creating source and doing preprocessing"
   ]
  },
  {
   "cell_type": "code",
   "execution_count": 7,
   "metadata": {},
   "outputs": [],
   "source": [
    "source ='the quick brown fox jumps over the lazy dog'"
   ]
  },
  {
   "cell_type": "code",
   "execution_count": 70,
   "metadata": {},
   "outputs": [],
   "source": [
    "# load model\n",
    "model = load_model('model.h5')"
   ]
  },
  {
   "cell_type": "code",
   "execution_count": 71,
   "metadata": {},
   "outputs": [],
   "source": [
    "# map an integer to a word\n",
    "def word_for_id(integer, tokenizer):\n",
    "\tfor word, index in tokenizer.word_index.items():\n",
    "\t\tif index == integer:\n",
    "\t\t\treturn word\n",
    "\treturn None"
   ]
  },
  {
   "cell_type": "code",
   "execution_count": 72,
   "metadata": {},
   "outputs": [],
   "source": [
    "# generate target given source sequence\n",
    "def predict_sequence(model, tokenizer, source):\n",
    "\tprediction = model.predict(source, verbose=0)[0]\n",
    "\tintegers = [argmax(vector) for vector in prediction]\n",
    "\ttarget = list()\n",
    "\tfor i in integers:\n",
    "\t\tword = word_for_id(i, tokenizer)\n",
    "\t\tif word is None:\n",
    "\t\t\tbreak\n",
    "\t\ttarget.append(word)\n",
    "\treturn ' '.join(target)"
   ]
  },
  {
   "cell_type": "code",
   "execution_count": 73,
   "metadata": {},
   "outputs": [],
   "source": [
    "# evaluate the skill of the model\n",
    "def evaluate_model(model, tokenizer, sources, raw_dataset):\n",
    "\tactual, predicted = list(), list()\n",
    "\tfor i, source in enumerate(sources):\n",
    "\t\t# translate encoded source text\n",
    "\t\tsource = source.reshape((1, source.shape[0]))\n",
    "\t\ttranslation = predict_sequence(model, l2_tokenizer, source)\n",
    "\t\traw_target, raw_src = raw_dataset[i]\n",
    "\t\tif i < 10:\n",
    "\t\t\tprint('src=[%s], target=[%s], predicted=[%s]' % (raw_src, raw_target, translation))\n",
    "\t\tactual.append([raw_target.split()])\n",
    "\t\tpredicted.append(translation.split())\n",
    "\t# calculate BLEU score\n",
    "\tprint('BLEU-1: %f' % corpus_bleu(actual, predicted, weights=(1.0, 0, 0, 0)))\n",
    "\tprint('BLEU-2: %f' % corpus_bleu(actual, predicted, weights=(0.5, 0.5, 0, 0)))\n",
    "\tprint('BLEU-3: %f' % corpus_bleu(actual, predicted, weights=(0.3, 0.3, 0.3, 0)))\n",
    "\tprint('BLEU-4: %f' % corpus_bleu(actual, predicted, weights=(0.25, 0.25, 0.25, 0.25)))"
   ]
  },
  {
   "cell_type": "markdown",
   "metadata": {},
   "source": [
    "* loading some clean data"
   ]
  },
  {
   "cell_type": "code",
   "execution_count": 74,
   "metadata": {},
   "outputs": [],
   "source": [
    "data_lang_test = dataset[5000:5010, :]\n",
    "# random shuffle\n",
    "shuffle(data_lang_test)\n",
    "# split into train/test\n",
    "train, test = data_lang_test[:1], data_lang_test[1:]"
   ]
  },
  {
   "cell_type": "code",
   "execution_count": 75,
   "metadata": {},
   "outputs": [],
   "source": [
    "#l1 tokenizer\n",
    "l1_tokenizer = tokenize(data_lang_test[:, 0])\n",
    "l1_vocab_size = len(l1_tokenizer.word_index) + 1\n",
    "l1_length = max_length(data_lang_test[:, 0])\n",
    "\n",
    "# l2 tokenizer\n",
    "l2_tokenizer = tokenize(data_lang_test[:, 1])\n",
    "l2_vocab_size = len(l2_tokenizer.word_index) + 1\n",
    "l2_length = max_length(data_lang_test[:, 1])\n",
    "\n",
    "# prepare data\n",
    "trainX = encode_sequences(l1_tokenizer, l1_length, train[:, 1])\n",
    "testX = encode_sequences(l1_tokenizer, l1_length, test[:, 1])\n",
    "\n",
    "# load model\n",
    "model = load_model('model.h5') "
   ]
  },
  {
   "cell_type": "code",
   "execution_count": 76,
   "metadata": {},
   "outputs": [
    {
     "name": "stdout",
     "output_type": "stream",
     "text": [
      "train\n",
      "WARNING:tensorflow:Model was constructed with shape (None, 39) for input KerasTensor(type_spec=TensorSpec(shape=(None, 39), dtype=tf.float32, name='embedding_1_input'), name='embedding_1_input', description=\"created by layer 'embedding_1_input'\"), but it was called on an input with incompatible shape (None, 28).\n",
      "src=[la cohérence en matière application le risque une application incohérente des règles de concurrence doit être gardé à esprit mais je crois il ne doit pas être exagéré], target=[the question of consistent application the risk of inconsistent application of competition rules must be borne in mind but i do not believe that it should be exaggerated], predicted=[une]\n",
      "BLEU-1: 0.000000\n",
      "BLEU-2: 0.000000\n",
      "BLEU-3: 0.000000\n",
      "BLEU-4: 0.000000\n"
     ]
    }
   ],
   "source": [
    "# test on some training sequences\n",
    "print('train')\n",
    "evaluate_model(model, l2_tokenizer, trainX, train)"
   ]
  },
  {
   "cell_type": "code",
   "execution_count": 77,
   "metadata": {},
   "outputs": [
    {
     "name": "stdout",
     "output_type": "stream",
     "text": [
      "test\n",
      "src=[récemment la commission a manifesté un intérêt renouvelé pour un impôt global comme la taxe tobin en tant que moyen de parvenir à une mondialisation on pourrait qualifier de socialement acceptable], target=[the commission recently observed renewed interest in a global tax such as the tobin tax as a means of achieving socially responsible globalisation so to speak], predicted=[une la]\n",
      "src=[nombre des points généraux que le rapport de notre commission soulève ont été traités dans le rapport de mme van der laan], target=[many of the general points raised in our committee report have been covered in mrs van der laan report], predicted=[une la]\n",
      "src=[la parole est à patten au nom de la commission], target=[mr patten has the floor on behalf of the commission], predicted=[une]\n",
      "src=[la commission ne pense pas que les amendements puissent améliorer équilibre sans créer des tensions en même temps], target=[the commission does not consider that the amendments would improve the balance without at the same time creating tensions], predicted=[une]\n",
      "src=[merci monsieur medina ortega], target=[thank you mr medina ortega], predicted=[une]\n",
      "src=[la présidence finlandaise écoutait que les gouvernements minimalistes et se montrait malheureusement sourde face à ce parlement], target=[the finnish presidency only listened to minimalist governments and unfortunately turned a deaf ear to this parliament], predicted=[une]\n",
      "src=[vous êtes parvenue à atteindre objectif que vous vous étiez fixé à savoir répondre à toutes les questions], target=[you have fulfilled your objective for today which is to answer all the questions], predicted=[une]\n",
      "src=[dans la situation actuelle le golan fournit entre un tiers et un sixième de l eau nécessaire à israël], target=[as things are at present the golan heights account for between a third and a sixth of israel water supply], predicted=[une]\n",
      "src=[ce qui est également positif je voudrais le rappeler est que ancienne uck est à présent impliquée dans la reconstruction du pays], target=[another positive development i would like to remind you of is the fact that the old uck is now bound up in the reconstruction of the country], predicted=[une]\n",
      "BLEU-1: 0.000000\n",
      "BLEU-2: 0.000000\n",
      "BLEU-3: 0.000000\n",
      "BLEU-4: 0.000000\n"
     ]
    }
   ],
   "source": [
    "# test on some test sequences\n",
    "print('test')\n",
    "evaluate_model(model, l2_tokenizer, testX, test)"
   ]
  }
 ],
 "metadata": {
  "kernelspec": {
   "display_name": "Python 3",
   "language": "python",
   "name": "python3"
  },
  "language_info": {
   "codemirror_mode": {
    "name": "ipython",
    "version": 3
   },
   "file_extension": ".py",
   "mimetype": "text/x-python",
   "name": "python",
   "nbconvert_exporter": "python",
   "pygments_lexer": "ipython3",
   "version": "3.8.5"
  }
 },
 "nbformat": 4,
 "nbformat_minor": 4
}
